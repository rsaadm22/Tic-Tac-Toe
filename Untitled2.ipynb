{
 "cells": [
  {
   "cell_type": "code",
   "execution_count": null,
   "id": "0d96c81d",
   "metadata": {},
   "outputs": [],
   "source": [
    "def print_board(board):\n",
    "    for row in board:\n",
    "        print(\" | \".join(row))\n",
    "        print(\"-\" * 9)\n",
    "\n",
    "def check_win(board, player):\n",
    "    for row in board:\n",
    "        if all(square == player for square in row):\n",
    "            return True\n",
    "    for col in range(3):\n",
    "        if all(row[col] == player for row in board):\n",
    "            return True\n",
    "    if all(board[i][i] == player for i in range(3)) or all(board[i][2 - i] == player for i in range(3)):\n",
    "        return True\n",
    "    return False\n",
    "\n",
    "def main():\n",
    "    board = [[\" \" for _ in range(3)] for _ in range(3)]\n",
    "    players = ['X', 'O']\n",
    "    current_player = 0\n",
    "    moves = 0\n",
    "\n",
    "    while moves < 9:\n",
    "        print_board(board)\n",
    "        row = int(input(f\"Player {players[current_player]}, enter row (0-2): \"))\n",
    "        col = int(input(f\"Player {players[current_player]}, enter column (0-2): \"))\n",
    "        \n",
    "        if 0 <= row < 3 and 0 <= col < 3 and board[row][col] == \" \":\n",
    "            board[row][col] = players[current_player]\n",
    "            if check_win(board, players[current_player]):\n",
    "                print_board(board)\n",
    "                print(f\"Player {players[current_player]} wins!\")\n",
    "                break\n",
    "            current_player = 1 - current_player  # Switch player\n",
    "            moves += 1\n",
    "        else:\n",
    "            print(\"Invalid move. Try again.\")\n",
    "    \n",
    "    if moves == 9:\n",
    "        print_board(board)\n",
    "        print(\"It's a tie!\")\n",
    "\n",
    "if __name__ == \"__main__\":\n",
    "    main()"
   ]
  }
 ],
 "metadata": {
  "kernelspec": {
   "display_name": "Python 3 (ipykernel)",
   "language": "python",
   "name": "python3"
  },
  "language_info": {
   "codemirror_mode": {
    "name": "ipython",
    "version": 3
   },
   "file_extension": ".py",
   "mimetype": "text/x-python",
   "name": "python",
   "nbconvert_exporter": "python",
   "pygments_lexer": "ipython3",
   "version": "3.9.12"
  }
 },
 "nbformat": 4,
 "nbformat_minor": 5
}
